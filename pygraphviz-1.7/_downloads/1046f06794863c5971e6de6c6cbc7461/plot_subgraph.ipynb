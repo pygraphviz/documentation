{
  "cells": [
    {
      "cell_type": "code",
      "execution_count": null,
      "metadata": {
        "collapsed": false
      },
      "outputs": [],
      "source": [
        "%matplotlib inline"
      ]
    },
    {
      "cell_type": "markdown",
      "metadata": {},
      "source": [
        "\n# Subgraph\n\nSpecify a subgraph in pygraphviz.\n"
      ]
    },
    {
      "cell_type": "code",
      "execution_count": null,
      "metadata": {
        "collapsed": false
      },
      "outputs": [],
      "source": [
        "import pygraphviz as pgv\n\nA = pgv.AGraph()\n# add some edges\nA.add_edge(1, 2)\nA.add_edge(2, 3)\nA.add_edge(1, 3)\nA.add_edge(3, 4)\nA.add_edge(3, 5)\nA.add_edge(3, 6)\nA.add_edge(4, 6)\n# make a subgraph with rank='same'\nB = A.add_subgraph([4, 5, 6], name=\"s1\", rank=\"same\")\nB.graph_attr[\"rank\"] = \"same\"\nprint(A.string())  # print dot file to standard output\nA.draw(\"subgraph.png\", prog=\"neato\")"
      ]
    }
  ],
  "metadata": {
    "kernelspec": {
      "display_name": "Python 3",
      "language": "python",
      "name": "python3"
    },
    "language_info": {
      "codemirror_mode": {
        "name": "ipython",
        "version": 3
      },
      "file_extension": ".py",
      "mimetype": "text/x-python",
      "name": "python",
      "nbconvert_exporter": "python",
      "pygments_lexer": "ipython3",
      "version": "3.8.7"
    }
  },
  "nbformat": 4,
  "nbformat_minor": 0
}