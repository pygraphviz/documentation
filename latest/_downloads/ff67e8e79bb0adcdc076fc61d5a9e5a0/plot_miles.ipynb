{
  "cells": [
    {
      "cell_type": "markdown",
      "metadata": {},
      "source": [
        "\n# Knuth Miles\n\nAn example that shows how to add your own positions to nodes\nand have graphviz \"neato\" position the edges.\n\nmiles_graph() returns an undirected graph over the 128 US cities from\nthe datafile miles_dat.txt.\n\nThis example is described in Section 1.1 in Knuth's book [1]_ [2]_.\n\nThe data used in this example is copied from [2]_.  The filename and\nheader have been modified to adhere to the request of the author to\nnot corrupt the original source file content and name.\n\n## References.\n.. [1] Donald E. Knuth,\n   \"The Stanford GraphBase: A Platform for Combinatorial Computing\",\n   ACM Press, New York, 1993.\n.. [2] http://www-cs-faculty.stanford.edu/~knuth/sgb.html\n"
      ]
    },
    {
      "cell_type": "code",
      "execution_count": null,
      "metadata": {
        "collapsed": false
      },
      "outputs": [],
      "source": [
        "__author__ = \"\"\"Aric Hagberg (aric.hagberg@gmail.com)\"\"\"\n\n\ndef miles_graph():\n    \"\"\"Return a graph from the data in miles_dat.txt.\n\n    Edges are made between cities that are less then 300 miles apart.\n    \"\"\"\n    import math\n    import re\n    import gzip\n\n    G = pgv.AGraph(name=\"miles_dat\")\n    G.node_attr[\"shape\"] = \"circle\"\n    G.node_attr[\"fixedsize\"] = \"true\"\n    G.node_attr[\"fontsize\"] = \"8\"\n    G.node_attr[\"style\"] = \"filled\"\n    G.graph_attr[\"outputorder\"] = \"edgesfirst\"\n    G.graph_attr[\"label\"] = \"miles_dat\"\n    G.graph_attr[\"ratio\"] = \"1.0\"\n    G.edge_attr[\"color\"] = \"#1100FF\"\n    G.edge_attr[\"style\"] = \"setlinewidth(2)\"\n\n    cities = []\n    for line in gzip.open(\"miles_dat.txt.gz\", \"rt\"):\n        if line.startswith(\"*\"):  # skip comments\n            continue\n        numfind = re.compile(r\"^\\d+\")\n\n        if numfind.match(line):  # this line is distances\n            dist = line.split()\n            for d in dist:\n                if float(d) < 300:  # connect if closer then 300 miles\n                    G.add_edge(city, cities[i])\n                i = i + 1\n        else:  # this line is a city, position, population\n            i = 1\n            (city, coordpop) = line.split(\"[\")\n            cities.insert(0, city)\n            (coord, pop) = coordpop.split(\"]\")\n            (y, x) = coord.split(\",\")\n            G.add_node(city)\n            n = G.get_node(city)\n            # assign positions, scale to be something reasonable in points\n            n.attr[\n                \"pos\"\n            ] = f\"{-(float(x) - 7000) / 10.0:f},{(float(y) - 2000) / 10.0:f}\"\n            # assign node size, in sqrt of 1,000,000's of people\n            d = math.sqrt(float(pop) / 1000000.0)\n            n.attr[\"height\"] = f\"{d / 2}\"\n            n.attr[\"width\"] = f\"{d / 2}\"\n            # assign node color\n            n.attr[\"fillcolor\"] = f\"#0000{int(d * 256):2x}\"\n            # empty labels\n            n.attr[\"label\"] = \" \"\n\n    return G\n\n\nif __name__ == \"__main__\":\n    import warnings\n    import pygraphviz as pgv\n\n    # ignore Graphviz warning messages\n    warnings.simplefilter(\"ignore\", RuntimeWarning)\n\n    G = miles_graph()\n    print(\"Loaded miles_dat.txt containing 128 cities.\")\n\n    G.write(\"miles.dot\")\n    print(\"Wrote miles.dot\")\n    G.draw(\"miles.png\", prog=\"neato\", args=\"-n2\")\n    print(\"Wrote miles.png\")"
      ]
    }
  ],
  "metadata": {
    "kernelspec": {
      "display_name": "Python 3",
      "language": "python",
      "name": "python3"
    },
    "language_info": {
      "codemirror_mode": {
        "name": "ipython",
        "version": 3
      },
      "file_extension": ".py",
      "mimetype": "text/x-python",
      "name": "python",
      "nbconvert_exporter": "python",
      "pygments_lexer": "ipython3",
      "version": "3.10.13"
    }
  },
  "nbformat": 4,
  "nbformat_minor": 0
}