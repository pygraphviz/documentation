{
  "cells": [
    {
      "cell_type": "markdown",
      "metadata": {},
      "source": [
        "\n# Attributes\n\nExample illustrating how to set node, edge, and graph attributes for\nvisualization.\n"
      ]
    },
    {
      "cell_type": "code",
      "execution_count": null,
      "metadata": {
        "collapsed": false
      },
      "outputs": [],
      "source": [
        "import pygraphviz as pgv\n\n# strict (no parallel edges)\n# digraph\n# with attribute rankdir set to 'LR'\nA = pgv.AGraph(directed=True, strict=True, rankdir=\"LR\")\n# add node 1 with color red\nA.add_node(1, color=\"red\")\nA.add_node(5, color=\"blue\")\n# add some edges\nA.add_edge(1, 2, color=\"green\")\nA.add_edge(2, 3)\nA.add_edge(1, 3)\nA.add_edge(3, 4)\nA.add_edge(3, 5)\nA.add_edge(3, 6)\nA.add_edge(4, 6)\n# adjust a graph parameter\nA.graph_attr[\"epsilon\"] = \"0.001\"\nprint(A.string())  # print dot file to standard output\nA.layout(\"dot\")  # layout with dot\nA.draw(\"foo.png\")  # write to file"
      ]
    }
  ],
  "metadata": {
    "kernelspec": {
      "display_name": "Python 3",
      "language": "python",
      "name": "python3"
    },
    "language_info": {
      "codemirror_mode": {
        "name": "ipython",
        "version": 3
      },
      "file_extension": ".py",
      "mimetype": "text/x-python",
      "name": "python",
      "nbconvert_exporter": "python",
      "pygments_lexer": "ipython3",
      "version": "3.10.13"
    }
  },
  "nbformat": 4,
  "nbformat_minor": 0
}