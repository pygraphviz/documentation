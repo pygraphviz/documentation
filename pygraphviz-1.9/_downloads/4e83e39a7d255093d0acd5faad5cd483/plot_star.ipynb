{
  "cells": [
    {
      "cell_type": "code",
      "execution_count": null,
      "metadata": {
        "collapsed": false
      },
      "outputs": [],
      "source": [
        "%matplotlib inline"
      ]
    },
    {
      "cell_type": "markdown",
      "metadata": {},
      "source": [
        "\n# Star\n\nCreate and draw a star with varying node properties.\n"
      ]
    },
    {
      "cell_type": "code",
      "execution_count": null,
      "metadata": {
        "collapsed": false
      },
      "outputs": [],
      "source": [
        "#    Copyright (C) 2006 by\n#    Aric Hagberg <hagberg@lanl.gov>\n#    Dan Schult <dschult@colgate.edu>\n#    Manos Renieris, http://www.cs.brown.edu/~er/\n#    Distributed with BSD license.\n#    All rights reserved, see LICENSE for details.\n\n\n__author__ = \"\"\"Aric Hagberg (hagberg@lanl.gov)\"\"\"\n\nfrom pygraphviz import *\n\nA = AGraph()\n\n# set some default node attributes\nA.node_attr[\"style\"] = \"filled\"\nA.node_attr[\"shape\"] = \"circle\"\nA.node_attr[\"fixedsize\"] = \"true\"\nA.node_attr[\"fontcolor\"] = \"#FFFFFF\"\n\n# make a star in shades of red\nfor i in range(1, 16):\n    A.add_edge(0, i)\n    n = A.get_node(i)\n    n.attr[\"fillcolor\"] = \"#%2x0000\" % (i * 16)\n    n.attr[\"height\"] = \"%s\" % (i / 16.0 + 0.5)\n    n.attr[\"width\"] = \"%s\" % (i / 16.0 + 0.5)\n\nprint(A.string())  # print to screen\nA.write(\"star.dot\")  # write to simple.dot\nA.draw(\"star.png\", prog=\"circo\")  # draw to png using circo layout"
      ]
    }
  ],
  "metadata": {
    "kernelspec": {
      "display_name": "Python 3",
      "language": "python",
      "name": "python3"
    },
    "language_info": {
      "codemirror_mode": {
        "name": "ipython",
        "version": 3
      },
      "file_extension": ".py",
      "mimetype": "text/x-python",
      "name": "python",
      "nbconvert_exporter": "python",
      "pygments_lexer": "ipython3",
      "version": "3.8.12"
    }
  },
  "nbformat": 4,
  "nbformat_minor": 0
}