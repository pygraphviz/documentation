{
  "cells": [
    {
      "cell_type": "code",
      "execution_count": null,
      "metadata": {
        "collapsed": false
      },
      "outputs": [],
      "source": [
        "%matplotlib inline"
      ]
    },
    {
      "cell_type": "markdown",
      "metadata": {},
      "source": [
        "\n# Basic\n\nA simple example to create a graphviz dot file and draw a graph.\n"
      ]
    },
    {
      "cell_type": "code",
      "execution_count": null,
      "metadata": {
        "collapsed": false
      },
      "outputs": [],
      "source": [
        "#    Copyright (C) 2006 by\n#    Aric Hagberg <hagberg@lanl.gov>\n#    Dan Schult <dschult@colgate.edu>\n#    Manos Renieris, http://www.cs.brown.edu/~er/\n#    Distributed with BSD license.\n#    All rights reserved, see LICENSE for details.\n\n\n__author__ = \"\"\"Aric Hagberg (hagberg@lanl.gov)\"\"\"\n\nimport pygraphviz as pgv\n\nA = pgv.AGraph()\n\nA.add_edge(1, 2)\nA.add_edge(2, 3)\nA.add_edge(1, 3)\n\nprint(A.string())  # print to screen\nA.write(\"simple.dot\")  # write to simple.dot\n\nB = pgv.AGraph(\"simple.dot\")  # create a new graph from file\nB.layout()  # layout with default (neato)\nB.draw(\"simple.png\")  # draw png"
      ]
    }
  ],
  "metadata": {
    "kernelspec": {
      "display_name": "Python 3",
      "language": "python",
      "name": "python3"
    },
    "language_info": {
      "codemirror_mode": {
        "name": "ipython",
        "version": 3
      },
      "file_extension": ".py",
      "mimetype": "text/x-python",
      "name": "python",
      "nbconvert_exporter": "python",
      "pygments_lexer": "ipython3",
      "version": "3.8.12"
    }
  },
  "nbformat": 4,
  "nbformat_minor": 0
}